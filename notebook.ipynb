{
  "cells": [
    {
      "metadata": {
        "_uuid": "8f2839f25d086af736a60e9eeb907d3b93b6e0e5",
        "_cell_guid": "b1076dfc-b9ad-4769-8c92-a6c4dae69d19",
        "trusted": true
      },
      "cell_type": "code",
      "source": "import numpy as np \nimport pandas as pd \nfrom sklearn.preprocessing import LabelEncoder\nfrom sklearn.impute import SimpleImputer\nfrom sklearn.model_selection import train_test_split\nfrom sklearn.metrics import mean_absolute_error\nfrom xgboost import XGBRegressor\n\npd.set_option('display.max_columns', None)\nenc = LabelEncoder()\n\n# Load data\ndata = pd.read_csv(\"../input/GrammarandProductReviews.csv\")\n\n# Extract target variable\ndata.dropna(axis=0, subset=['reviews.didPurchase'], inplace=True)  #Clean NaN for target variable\ny = data[['reviews.didPurchase']]\nY = y.replace({True:1, False:0}) #Encode\n\n# Extract predictor variables\nX = data.drop(['upc','manufacturerNumber','ean','id','keys','reviews.didPurchase','reviews.dateSeen','reviews.id','reviews.sourceURLs','reviews.text',\n               'reviews.title','reviews.userCity','reviews.userProvince','reviews.username','reviews.date','reviews.dateAdded','dateAdded','dateUpdated']\n              , axis=1) #Pick relevant predictor variables\nX.loc[:,'brand'] = enc.fit_transform(np.ravel(data[['brand']])) #Encode\nX.loc[:,'categories'] = enc.fit_transform(np.ravel(data[['categories']]))\nX.loc[:,'manufacturer'] = enc.fit_transform(np.ravel(data[['manufacturer']]))\nX.loc[:,'name'] = enc.fit_transform(np.ravel(data[['name']]))\nX.loc[:,'reviews.doRecommend'] = enc.fit_transform(np.ravel(data[['reviews.doRecommend']]))\n\n# Separate train and test data\ntrain_x, test_x, train_y, test_y = train_test_split(X.values, Y.values, test_size=0.25)\n\n# Impute Nan in X\nimputer = SimpleImputer()\ntrain_X = imputer.fit_transform(train_x)\ntest_X = imputer.transform(test_x)\n\n# Train model\nmodel = XGBRegressor()\nmodel.fit(train_X, train_y, verbose=False)\n\n# Test model\npred_y = model.predict(test_X)\nprint(\"Mean absolute error: \" + str(mean_absolute_error(pred_y, test_y)))\n",
      "execution_count": 9,
      "outputs": [
        {
          "output_type": "stream",
          "text": "Mean absolute error: 0.103813670223\n",
          "name": "stdout"
        }
      ]
    },
    {
      "metadata": {
        "trusted": true,
        "collapsed": true,
        "_uuid": "eb4d678b4a7bd21f3740ea6643ef062cfa8f6901"
      },
      "cell_type": "code",
      "source": "",
      "execution_count": null,
      "outputs": []
    }
  ],
  "metadata": {
    "kernelspec": {
      "display_name": "Python 3",
      "language": "python",
      "name": "python3"
    },
    "language_info": {
      "name": "python",
      "version": "3.6.5",
      "mimetype": "text/x-python",
      "codemirror_mode": {
        "name": "ipython",
        "version": 3
      },
      "pygments_lexer": "ipython3",
      "nbconvert_exporter": "python",
      "file_extension": ".py"
    }
  },
  "nbformat": 4,
  "nbformat_minor": 1
}